{
 "cells": [
  {
   "cell_type": "code",
   "execution_count": 5,
   "source": [
    "import urllib.request\r\n",
    "from urllib.request import urlopen\r\n",
    "import requests\r\n",
    "import folium\r\n",
    "import json\r\n",
    "import copy\r\n",
    "import pandas as pd\r\n",
    "import plotly.express as px\r\n",
    "from datetime import datetime\r\n",
    "from dateutil.relativedelta import relativedelta\r\n",
    "from bs4 import BeautifulSoup\r\n"
   ],
   "outputs": [],
   "metadata": {}
  },
  {
   "cell_type": "code",
   "execution_count": null,
   "source": [
    "#0501013B0 = Amoxicillin\r\n",
    "\r\n",
    "url_0501013B0 = \"https://openprescribing.net/api/1.0/spending_by_ccg/?code=0501013B0&format=json\"\r\n",
    "response_0501013B0 = urllib.request.urlopen(url_0501013B0)\r\n",
    "data_0501013B0 = json.loads(response_0501013B0.read())\r\n",
    "flat_data_0501013B0 = pd.json_normalize(data_0501013B0)\r\n",
    "flat_data_0501013B0 = flat_data_0501013B0.groupby(['row_name', 'row_id', 'date']).sum()\r\n",
    "flat_data_0501013B0 = flat_data_0501013B0.drop(columns=['items', 'quantity'])\r\n",
    "flat_data_0501013B0 .rename(columns={'actual_cost': 'Amoxicillin'}, inplace=True)\r\n",
    "flat_data_0501013B0"
   ],
   "outputs": [],
   "metadata": {}
  },
  {
   "cell_type": "code",
   "execution_count": null,
   "source": [
    "#0501030I0 = Doxycycline Hyclate\r\n",
    "\r\n",
    "url_0501030I0 = \"https://openprescribing.net/api/1.0/spending_by_ccg/?code=0501030I0&format=json\"\r\n",
    "response_0501030I0 = urllib.request.urlopen(url_0501030I0)\r\n",
    "data_0501030I0 = json.loads(response_0501030I0.read())\r\n",
    "flat_data_0501030I0 = pd.json_normalize(data_0501030I0)\r\n",
    "flat_data_0501030I0 = flat_data_0501030I0.groupby(['row_name', 'row_id', 'date']).sum()\r\n",
    "flat_data_0501030I0 = flat_data_0501030I0.drop(columns=['items', 'quantity'])\r\n",
    "flat_data_0501030I0.rename(columns={'actual_cost': 'Doxycycline Hyclate'}, inplace=True)\r\n",
    "flat_data_0501030I0"
   ],
   "outputs": [],
   "metadata": {}
  },
  {
   "cell_type": "code",
   "execution_count": null,
   "source": [
    "#0501021L0 = Cefalexin\r\n",
    "\r\n",
    "url_0501021L0 = \"https://openprescribing.net/api/1.0/spending_by_ccg/?code=0501021L0&format=json\"\r\n",
    "response_0501021L0 = urllib.request.urlopen(url_0501021L0)\r\n",
    "data_0501021L0 = json.loads(response_0501021L0.read())\r\n",
    "flat_data_0501021L0= pd.json_normalize(data_0501021L0)\r\n",
    "flat_data_0501021L0 = flat_data_0501021L0.groupby(['row_name', 'row_id', 'date']).sum()\r\n",
    "flat_data_0501021L0 = flat_data_0501021L0.drop(columns=['items', 'quantity'])\r\n",
    "flat_data_0501021L0.rename(columns={'actual_cost': 'Cefalexin'}, inplace=True)\r\n",
    "flat_data_0501021L0"
   ],
   "outputs": [],
   "metadata": {}
  },
  {
   "cell_type": "code",
   "execution_count": null,
   "source": [
    "join_1 = flat_data_0501013B0.join(flat_data_0501030I0, lsuffix='row_id', rsuffix='row_id')\r\n",
    "all_antibiotics_merged = join_1.join(flat_data_0501021L0, lsuffix='row_id', rsuffix='row_id')\r\n",
    "all_antibiotics_merged.fillna(0, inplace=True)\r\n",
    "all_antibiotics_merged['Total cost of Amoxicillin, Doxycycline Hyclate, Cefalexin (£)']= all_antibiotics_merged.iloc[:, -3:].sum(axis=1)\r\n",
    "all_antibiotics = all_antibiotics_merged.reset_index()\r\n",
    "all_antibiotics.rename(columns={'row_name': 'Clinical Commissioning Group (CCG)', 'row_id': 'CCG code', 'date': 'Date'}, inplace=True)\r\n",
    "all_antibiotics"
   ],
   "outputs": [],
   "metadata": {}
  },
  {
   "cell_type": "code",
   "execution_count": null,
   "source": [
    "all_antibiotics_plot = all_antibiotics.groupby(['Date']).sum()\r\n",
    "all_antibiotics_plot = all_antibiotics_plot.reset_index()\r\n",
    "all_antibiotics_plot = all_antibiotics_plot.round(2)\r\n",
    "all_antibiotics_plot"
   ],
   "outputs": [],
   "metadata": {}
  },
  {
   "cell_type": "code",
   "execution_count": null,
   "source": [
    "fig_1_data = all_antibiotics_plot.copy()\r\n",
    "fig_1_data.rename(columns={\r\n",
    "\"Amoxicillin\": \"Cost (£) of Amozicillin\",\r\n",
    "\"Doxycycline Hyclate\": \"Cost (£) of Doxycycline Hyclate\", \r\n",
    "\"Cefalexin\": \"Cost (£) of Cefalexin\",\r\n",
    "\"Total cost of Amoxicillin, Doxycycline Hyclate, Cefalexin (£)\": \"Cost (£) of Amoxicillin, Doxycycline Hyclate, and Cefalexin\"}, \r\n",
    "inplace=True)\r\n",
    "fig_1_data.index.name = 'Unique ID'"
   ],
   "outputs": [],
   "metadata": {}
  },
  {
   "cell_type": "code",
   "execution_count": null,
   "source": [
    "pd.options.plotting.backend = \"plotly\"\r\n",
    "fig = px.bar(all_antibiotics_plot, x='Date', y= [\"Amoxicillin\", \"Doxycycline Hyclate\", 'Cefalexin'],\r\n",
    "color_discrete_sequence=[\"#003087\", \"#0072CE\", \"#41B6E6\"],\r\n",
    "labels={\"value\": \"Cost (£)\", \"variable\": \"Antibiotic\"})\r\n",
    "fig.update_layout(\r\n",
    "    {\"plot_bgcolor\": \"rgba(0, 0, 0, 0)\", \"paper_bgcolor\": \"rgba(0, 0, 0, 0)\"},\r\n",
    "    font = dict(family = \"Arial\", size = 16),\r\n",
    "    autosize=True,\r\n",
    "    margin=dict(l=50, r=50, b=50, t=50, pad=4, autoexpand=True),\r\n",
    ")\r\n",
    "fig.show()"
   ],
   "outputs": [],
   "metadata": {}
  },
  {
   "cell_type": "code",
   "execution_count": 12,
   "source": [
    "#CCG pop from NHS digital\r\n",
    "month_year_variable = datetime.now().strftime('%B-%Y').lower()\r\n",
    "url = \"https://digital.nhs.uk/data-and-information/publications/statistical/patients-registered-at-a-gp-practice/%s\" %month_year_variable \r\n",
    "response = urllib.request.urlopen(url)\r\n",
    "soup = BeautifulSoup(response.read(), \"lxml\")\r\n",
    "data = soup.select_one(\"a[href*='gp-reg-pat-prac-all.csv']\")\r\n",
    "if data != None: \r\n",
    "    csv_url = data['href']\r\n",
    "    req = requests.get(csv_url)\r\n",
    "    url_content = req.content\r\n",
    "    csv_file = open('assets/data/ccg_pop.csv', 'wb')\r\n",
    "    csv_file.write(url_content)\r\n",
    "    csv_file.close()\r\n",
    "else:\r\n",
    "    last_month = datetime.now() - relativedelta(months=1)\r\n",
    "    last_month_year_variable = last_month.strftime('%B-%Y').lower()\r\n",
    "    url = \"https://digital.nhs.uk/data-and-information/publications/statistical/patients-registered-at-a-gp-practice/%s\" %last_month_year_variable\r\n",
    "    response = urllib.request.urlopen(url)\r\n",
    "    soup = BeautifulSoup(response.read(), \"lxml\")\r\n",
    "    data = soup.select_one(\"a[href*='gp-reg-pat-prac-all.csv']\")\r\n",
    "    csv_url = data['href']\r\n",
    "    req = requests.get(csv_url)\r\n",
    "    url_content = req.content\r\n",
    "    csv_file = open('assets/data/ccg_pop.csv', 'wb')\r\n",
    "    csv_file.write(url_content)\r\n",
    "    csv_file.close()\r\n",
    "df1 = pd.read_csv('assets/data/ccg_pop.csv')\r\n",
    "CCG_pop = df1.groupby(['CCG_CODE']).sum().reset_index()\r\n",
    "CCG_pop.rename(columns={'CCG_CODE': 'CCG code', 'NUMBER_OF_PATIENTS': 'Number of patients registered at GP practices'}, inplace=True) "
   ],
   "outputs": [
    {
     "output_type": "execute_result",
     "data": {
      "text/plain": [
       "    CCG code  Number of patients registered at GP practices\n",
       "0        00L                                         332090\n",
       "1        00N                                         158731\n",
       "2        00P                                         284690\n",
       "3        00Q                                         180112\n",
       "4        00R                                         175299\n",
       "..       ...                                            ...\n",
       "101    D9Y0V                                        1677065\n",
       "102    M1J4Y                                        1059776\n",
       "103    M2L0M                                         514523\n",
       "104    W2U3Z                                        2694388\n",
       "105    X2C4Y                                         448240\n",
       "\n",
       "[106 rows x 2 columns]"
      ],
      "text/html": [
       "<div>\n",
       "<style scoped>\n",
       "    .dataframe tbody tr th:only-of-type {\n",
       "        vertical-align: middle;\n",
       "    }\n",
       "\n",
       "    .dataframe tbody tr th {\n",
       "        vertical-align: top;\n",
       "    }\n",
       "\n",
       "    .dataframe thead th {\n",
       "        text-align: right;\n",
       "    }\n",
       "</style>\n",
       "<table border=\"1\" class=\"dataframe\">\n",
       "  <thead>\n",
       "    <tr style=\"text-align: right;\">\n",
       "      <th></th>\n",
       "      <th>CCG code</th>\n",
       "      <th>Number of patients registered at GP practices</th>\n",
       "    </tr>\n",
       "  </thead>\n",
       "  <tbody>\n",
       "    <tr>\n",
       "      <th>0</th>\n",
       "      <td>00L</td>\n",
       "      <td>332090</td>\n",
       "    </tr>\n",
       "    <tr>\n",
       "      <th>1</th>\n",
       "      <td>00N</td>\n",
       "      <td>158731</td>\n",
       "    </tr>\n",
       "    <tr>\n",
       "      <th>2</th>\n",
       "      <td>00P</td>\n",
       "      <td>284690</td>\n",
       "    </tr>\n",
       "    <tr>\n",
       "      <th>3</th>\n",
       "      <td>00Q</td>\n",
       "      <td>180112</td>\n",
       "    </tr>\n",
       "    <tr>\n",
       "      <th>4</th>\n",
       "      <td>00R</td>\n",
       "      <td>175299</td>\n",
       "    </tr>\n",
       "    <tr>\n",
       "      <th>...</th>\n",
       "      <td>...</td>\n",
       "      <td>...</td>\n",
       "    </tr>\n",
       "    <tr>\n",
       "      <th>101</th>\n",
       "      <td>D9Y0V</td>\n",
       "      <td>1677065</td>\n",
       "    </tr>\n",
       "    <tr>\n",
       "      <th>102</th>\n",
       "      <td>M1J4Y</td>\n",
       "      <td>1059776</td>\n",
       "    </tr>\n",
       "    <tr>\n",
       "      <th>103</th>\n",
       "      <td>M2L0M</td>\n",
       "      <td>514523</td>\n",
       "    </tr>\n",
       "    <tr>\n",
       "      <th>104</th>\n",
       "      <td>W2U3Z</td>\n",
       "      <td>2694388</td>\n",
       "    </tr>\n",
       "    <tr>\n",
       "      <th>105</th>\n",
       "      <td>X2C4Y</td>\n",
       "      <td>448240</td>\n",
       "    </tr>\n",
       "  </tbody>\n",
       "</table>\n",
       "<p>106 rows × 2 columns</p>\n",
       "</div>"
      ]
     },
     "metadata": {},
     "execution_count": 12
    }
   ],
   "metadata": {}
  },
  {
   "cell_type": "code",
   "execution_count": 10,
   "source": [],
   "outputs": [
    {
     "output_type": "execute_result",
     "data": {
      "text/plain": [
       "'july-2021'"
      ]
     },
     "metadata": {},
     "execution_count": 10
    }
   ],
   "metadata": {}
  },
  {
   "cell_type": "code",
   "execution_count": null,
   "source": [
    "current_year = datetime.now().year\r\n",
    "current_year_str = str(current_year)"
   ],
   "outputs": [],
   "metadata": {}
  },
  {
   "cell_type": "code",
   "execution_count": null,
   "source": [
    "all_antibiotics[\"Date\"] = pd.to_datetime(all_antibiotics[\"Date\"]).apply(lambda x: x.strftime(\"%Y\"))\r\n",
    "all_antibiotics_current_year = all_antibiotics.loc[all_antibiotics['Date'] == current_year_str]\r\n",
    "df1 = all_antibiotics_current_year.groupby([\"CCG code\", \"Clinical Commissioning Group (CCG)\"]).sum()\r\n",
    "df2 = df1.drop(columns=['Amoxicillin', 'Doxycycline Hyclate', 'Cefalexin'])\r\n",
    "df3 = df2.reset_index()\r\n",
    "df4 = df3.join(CCG_pop, rsuffix='CCG code')\r\n",
    "df5 = df4.drop(columns=['CCG codeCCG code'])\r\n",
    "df5.rename(columns = {\"Total cost of Amoxicillin, Doxycycline Hyclate, Cefalexin (£)\": \"Cost (£) of Amoxicillin, Doxycycline Hyclate,and Cefalexin in %s\" %current_year_str}, inplace=True)\r\n",
    "df5[\"Cost (£) of Amoxicillin, Doxycycline Hyclate, and Cefalexin per 1000 GP registered patients in %s\" %current_year_str] = df5[\"Cost (£) of Amoxicillin, Doxycycline Hyclate,and Cefalexin in %s\" %current_year_str]/(df5[\"Number of patients registered at GP practices\"]/1000)\r\n",
    "df6 = df5.reset_index(drop = True)\r\n",
    "df6 = df6.round(2)\r\n",
    "df6.index.name = 'Unique ID'\r\n",
    "df6"
   ],
   "outputs": [],
   "metadata": {}
  },
  {
   "cell_type": "code",
   "execution_count": null,
   "source": [
    "fig_2_data = df6.copy()"
   ],
   "outputs": [],
   "metadata": {}
  },
  {
   "cell_type": "code",
   "execution_count": null,
   "source": [
    "with urlopen('https://openprescribing.net/api/1.0/org_location/?org_type=ccg') as response:\r\n",
    "    data_ccg_geojson = json.load(response)\r\n",
    "\r\n",
    "tooltip_text = { x: y for x, y in zip(df6['CCG code'], df6['Cost (£) of Amoxicillin, Doxycycline Hyclate, and Cefalexin per 1000 GP registered patients in %s' %current_year_str])}\r\n",
    "tooltip_text_2 = { x: y for x, y in zip(df6['CCG code'], df6['Number of patients registered at GP practices'].apply(str))}\r\n",
    "\r\n",
    "for idx,x in enumerate(data_ccg_geojson['features']):\r\n",
    "    this_tooltip_text = tooltip_text[x['properties']['code']]\r\n",
    "    data_ccg_geojson['features'][idx]['properties']['Cost (£) per 1000 GP registered population'] = this_tooltip_text\r\n",
    "\r\n",
    "for idx,x in enumerate(data_ccg_geojson['features']):\r\n",
    "    this_tooltip_text_2 = tooltip_text_2[x['properties']['code']]\r\n",
    "    data_ccg_geojson['features'][idx]['properties']['GP registered population'] = this_tooltip_text_2"
   ],
   "outputs": [],
   "metadata": {}
  },
  {
   "cell_type": "code",
   "execution_count": null,
   "source": [
    "def check_to_include(feature):\r\n",
    "    return (feature['geometry'] is not None)\r\n",
    "\r\n",
    "def transform(feature):\r\n",
    "    new_feature = copy.deepcopy(feature)\r\n",
    "    y = new_feature['properties']\r\n",
    "    del y['ons_code']\r\n",
    "    return feature\r\n",
    "\r\n",
    "data_ccg_geojson_2 = data_ccg_geojson.copy()\r\n",
    "data_ccg_geojson_2['features'] = [transform(x) for x in data_ccg_geojson['features'] if check_to_include(x)]\r\n"
   ],
   "outputs": [],
   "metadata": {}
  },
  {
   "cell_type": "code",
   "execution_count": null,
   "source": [
    "frame = folium.Figure(width=700, height=500)\r\n",
    "fig_2 = folium.Map(\r\n",
    "    location=[53, 1],\r\n",
    "    tiles=\"cartodbpositron\",\r\n",
    "    zoom_start=6).add_to(frame)\r\n",
    "folium.Choropleth(\r\n",
    "    geo_data=data_ccg_geojson,\r\n",
    "    name=\"choropleth\",\r\n",
    "    data= df6,\r\n",
    "    columns=[\"CCG code\", \"Cost (£) of Amoxicillin, Doxycycline Hyclate, and Cefalexin per 1000 GP registered patients in %s\" %current_year_str],\r\n",
    "    key_on=\"feature.properties.code\",\r\n",
    "    fill_color= \"BuPu\",\r\n",
    "    fill_opacity=1,\r\n",
    "    line_opacity=0.5,\r\n",
    "    legend_name=\"Prescribing cost (£) per 1000 GP registered population in %s\" %current_year_str,\r\n",
    "    highlight = True\r\n",
    ").add_to(fig_2)\r\n",
    "style_function = lambda x: {'fillColor': '#ffffff', \r\n",
    "                            'color':'#000000', \r\n",
    "                            'fillOpacity': 0.1, \r\n",
    "                            'weight': 0.1}\r\n",
    "highlight_function = lambda x: {'fillColor': '#000000', \r\n",
    "                                'color':'#000000', \r\n",
    "                                'fillOpacity': 0.5, \r\n",
    "                                'weight': 0.1}\r\n",
    "data_on_hover = folium.features.GeoJson(data = data_ccg_geojson_2, style_function=style_function, control=False, highlight_function=highlight_function, tooltip=folium.features.GeoJsonTooltip(\r\n",
    "    fields=['name', 'code', 'GP registered population', 'Cost (£) per 1000 GP registered population'],\r\n",
    "    aliases=['CCG name: ', 'CCG code: ', 'GP registered population: ', 'Cost (£) per 1000 GP registered population: '],\r\n",
    "    style=(\"background-color: white; color: #333333; font-family: arial; font-size: 12px; padding: 10px;\")))\r\n",
    "fig_2.add_child(data_on_hover)\r\n",
    "fig_2.keep_in_front(data_on_hover)\r\n",
    "folium.LayerControl().add_to(fig_2)\r\n",
    "fig_2\r\n"
   ],
   "outputs": [],
   "metadata": {}
  },
  {
   "cell_type": "code",
   "execution_count": null,
   "source": [
    "fig_2.save(\"assets/folium/folium_obj.html\", \"w\")"
   ],
   "outputs": [],
   "metadata": {}
  }
 ],
 "metadata": {
  "interpreter": {
   "hash": "292c795e24700ffeb49481d87674b4a2462b1f5926d60159546f48d450d30bc4"
  },
  "kernelspec": {
   "name": "python3",
   "display_name": "Python 3.9.4 64-bit"
  },
  "language_info": {
   "codemirror_mode": {
    "name": "ipython",
    "version": 3
   },
   "file_extension": ".py",
   "mimetype": "text/x-python",
   "name": "python",
   "nbconvert_exporter": "python",
   "pygments_lexer": "ipython3",
   "version": "3.9.4"
  },
  "metadata": {
   "interpreter": {
    "hash": "aee8b7b246df8f9039afb4144a1f6fd8d2ca17a180786b69acc140d282b71a49"
   }
  },
  "orig_nbformat": 4
 },
 "nbformat": 4,
 "nbformat_minor": 2
}