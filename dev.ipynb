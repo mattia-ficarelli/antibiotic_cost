{
 "cells": [
  {
   "cell_type": "code",
   "execution_count": null,
   "source": [
    "import urllib.request\n",
    "from urllib.request import urlopen\n",
    "import requests\n",
    "import folium\n",
    "import json\n",
    "import geojson\n",
    "import pandas as pd\n",
    "import plotly.express as px\n",
    "from datetime import datetime"
   ],
   "outputs": [],
   "metadata": {}
  },
  {
   "cell_type": "code",
   "execution_count": null,
   "source": [
    "#0501013B0 = Amoxicillin\n",
    "\n",
    "url_0501013B0 = \"https://openprescribing.net/api/1.0/spending_by_ccg/?code=0501013B0&format=json\"\n",
    "response_0501013B0 = urllib.request.urlopen(url_0501013B0)\n",
    "data_0501013B0 = json.loads(response_0501013B0.read())\n",
    "flat_data_0501013B0 = pd.json_normalize(data_0501013B0)\n",
    "flat_data_0501013B0 = flat_data_0501013B0.groupby(['row_name', 'row_id', 'date']).sum()\n",
    "flat_data_0501013B0 = flat_data_0501013B0.drop(columns=['items', 'quantity'])\n",
    "flat_data_0501013B0 .rename(columns={'actual_cost': 'Amoxicillin'}, inplace=True)\n",
    "flat_data_0501013B0"
   ],
   "outputs": [],
   "metadata": {}
  },
  {
   "cell_type": "code",
   "execution_count": null,
   "source": [
    "#0501030I0 = Doxycycline Hyclate\n",
    "\n",
    "url_0501030I0 = \"https://openprescribing.net/api/1.0/spending_by_ccg/?code=0501030I0&format=json\"\n",
    "response_0501030I0 = urllib.request.urlopen(url_0501030I0)\n",
    "data_0501030I0 = json.loads(response_0501030I0.read())\n",
    "flat_data_0501030I0 = pd.json_normalize(data_0501030I0)\n",
    "flat_data_0501030I0 = flat_data_0501030I0.groupby(['row_name', 'row_id', 'date']).sum()\n",
    "flat_data_0501030I0 = flat_data_0501030I0.drop(columns=['items', 'quantity'])\n",
    "flat_data_0501030I0.rename(columns={'actual_cost': 'Doxycycline Hyclate'}, inplace=True)\n",
    "flat_data_0501030I0"
   ],
   "outputs": [],
   "metadata": {}
  },
  {
   "cell_type": "code",
   "execution_count": null,
   "source": [
    "#0501021L0 = Cefalexin\n",
    "\n",
    "url_0501021L0 = \"https://openprescribing.net/api/1.0/spending_by_ccg/?code=0501021L0&format=json\"\n",
    "response_0501021L0 = urllib.request.urlopen(url_0501021L0)\n",
    "data_0501021L0 = json.loads(response_0501021L0.read())\n",
    "flat_data_0501021L0= pd.json_normalize(data_0501021L0)\n",
    "flat_data_0501021L0 = flat_data_0501021L0.groupby(['row_name', 'row_id', 'date']).sum()\n",
    "flat_data_0501021L0 = flat_data_0501021L0.drop(columns=['items', 'quantity'])\n",
    "flat_data_0501021L0.rename(columns={'actual_cost': 'Cefalexin'}, inplace=True)\n",
    "flat_data_0501021L0"
   ],
   "outputs": [],
   "metadata": {}
  },
  {
   "cell_type": "code",
   "execution_count": null,
   "source": [
    "join_1 = flat_data_0501013B0.join(flat_data_0501030I0, lsuffix='row_id', rsuffix='row_id')\n",
    "all_antibiotics_merged = join_1.join(flat_data_0501021L0, lsuffix='row_id', rsuffix='row_id')\n",
    "all_antibiotics_merged.fillna(0, inplace=True)\n",
    "all_antibiotics_merged['Total cost of Amoxicillin, Doxycycline Hyclate, Cefalexin (£)']= all_antibiotics_merged.iloc[:, -3:].sum(axis=1)\n",
    "all_antibiotics = all_antibiotics_merged.reset_index()\n",
    "all_antibiotics.rename(columns={'row_name': 'Clinical Commissioning Group (CCG)', 'row_id': 'CCG code', 'date': 'Date'}, inplace=True)\n",
    "all_antibiotics"
   ],
   "outputs": [],
   "metadata": {}
  },
  {
   "cell_type": "code",
   "execution_count": null,
   "source": [
    "all_antibiotics_plot = all_antibiotics.groupby(['Date']).sum()\n",
    "all_antibiotics_plot = all_antibiotics_plot.reset_index()\n",
    "all_antibiotics_plot = all_antibiotics_plot.round(1)"
   ],
   "outputs": [],
   "metadata": {}
  },
  {
   "cell_type": "code",
   "execution_count": null,
   "source": [
    "pd.options.plotting.backend = \"plotly\"\n",
    "fig = px.bar(all_antibiotics_plot, x='Date', y= [\"Amoxicillin\", \"Doxycycline Hyclate\", 'Cefalexin'],\n",
    "color_discrete_sequence=[\"#003087\", \"#0072CE\", \"#41B6E6\"],\n",
    "labels={\"value\": \"Cost (£)\", \"variable\": \"Antibiotic\"},  \n",
    "title= \"Total cost of Amoxicillin, Doxycycline Hyclate, and Cefalexin (£) per month\")\n",
    "fig.update_layout(\n",
    "    {\"plot_bgcolor\": \"rgba(0, 0, 0, 0)\", \"paper_bgcolor\": \"rgba(0, 0, 0, 0)\"},\n",
    "    autosize=True,\n",
    "    margin=dict(l=50, r=50, b=50, t=50, pad=4, autoexpand=True),\n",
    ")\n",
    "fig.show()"
   ],
   "outputs": [],
   "metadata": {}
  },
  {
   "cell_type": "code",
   "execution_count": null,
   "source": [
    "#CCG pop from NHS digital \n",
    "csv_url = \"https://files.digital.nhs.uk/40/2232E5/gp-reg-pat-prac-all.csv\"\n",
    "req = requests.get(csv_url)\n",
    "url_content = req.content\n",
    "csv_file = open('ccg_pop.csv', 'wb')\n",
    "csv_file.write(url_content)\n",
    "csv_file.close()\n",
    "df1 = pd.read_csv('ccg_pop.csv')\n",
    "CCG_pop = df1.groupby(['CCG_CODE']).sum().reset_index()\n",
    "CCG_pop.rename(columns={'CCG_CODE': 'CCG code', 'NUMBER_OF_PATIENTS': 'Number of patients registered at GP practices'}, inplace=True)\n",
    "CCG_pop"
   ],
   "outputs": [],
   "metadata": {}
  },
  {
   "cell_type": "code",
   "execution_count": null,
   "source": [
    "current_year = datetime.now().year\n",
    "current_year_str = str(current_year)"
   ],
   "outputs": [],
   "metadata": {}
  },
  {
   "cell_type": "code",
   "execution_count": null,
   "source": [
    "all_antibiotics[\"Date\"] = pd.to_datetime(all_antibiotics[\"Date\"]).apply(lambda x: x.strftime(\"%Y\"))\n",
    "all_antibiotics_current_year = all_antibiotics.loc[all_antibiotics['Date'] == current_year_str]\n",
    "df1 = all_antibiotics_current_year.groupby([\"CCG code\", \"Clinical Commissioning Group (CCG)\"]).sum()\n",
    "df2 = df1.drop(columns=['Amoxicillin', 'Doxycycline Hyclate', 'Cefalexin'])\n",
    "df3 = df2.reset_index()\n",
    "df4 = df3.join(CCG_pop, rsuffix='CCG code')\n",
    "df5 = df4.drop(columns=['CCG codeCCG code'])\n",
    "df5[\"Cost (£) per 1000 GP registered patients\"] = df5[\"Total cost of Amoxicillin, Doxycycline Hyclate, Cefalexin (£)\"]/(df5[\"Number of patients registered at GP practices\"]/1000)\n",
    "df5.round(2)\n",
    "df6 = df5.sort_values(by= \"Cost (£) per 1000 GP registered patients\" , ascending=True)\n",
    "df6 = df6.rename(columns = {'CCG code': 'Code'})\n",
    "df6"
   ],
   "outputs": [],
   "metadata": {}
  },
  {
   "cell_type": "code",
   "execution_count": null,
   "source": [
    "pd.options.plotting.backend = \"plotly\"\n",
    "fig_2 = px.bar(df6, y='Clinical Commissioning Group (CCG)', x= \"Cost (£) per 1000 GP registered patients\",\n",
    "log_x=True,\n",
    "labels={\"Total cost of Amoxicillin, Doxycycline Hyclate, Cefalexin (£) per 1000 GP registered patients\": \"Cost (£) per 1000 GP registered patients\"},\n",
    "title= \"Total cost of Amoxicillin, Doxycycline Hyclate, and Cefalexin (£) per 1000 GP registered patients in %s\" %current_year_str, \n",
    "color= \"Cost (£) per 1000 GP registered patients\" ,\n",
    "color_continuous_scale=px.colors.sequential.ice,\n",
    "hover_data={\"Cost (£) per 1000 GP registered patients\" :':.2f'},\n",
    "width=1500, height=2000)\n",
    "\n",
    "fig_2.update_layout(\n",
    "    {\"plot_bgcolor\": \"rgba(0, 0, 0, 0)\", \"paper_bgcolor\": \"rgba(0, 0, 0, 0)\"},\n",
    "    autosize=True,\n",
    "    margin=dict(l=50, r=50, b=50, t=50, pad=4, autoexpand=True),\n",
    ")\n",
    "fig_2.show()"
   ],
   "outputs": [],
   "metadata": {}
  },
  {
   "cell_type": "code",
   "execution_count": null,
   "metadata": {},
   "outputs": [],
   "source": [
    "with urlopen('https://openprescribing.net/api/1.0/org_location/?org_type=ccg') as response:\n",
    "    data_ccg_geojson = json.load(response)\n",
    "\n",
    "m = folium.Map(\n",
    "    location=[53, 0.13],\n",
    "    tiles=\"cartodbpositron\",\n",
    "    zoom_start=6.3,\n",
    ")\n",
    "\n",
    "folium.Choropleth(\n",
    "    geo_data=data_ccg_geojson,\n",
    "    name=\"choropleth\",\n",
    "    data=df6,\n",
    "    columns=[\"Code\", \"Cost (£) per 1000 GP registered patients\"],\n",
    "    key_on=\"feature.properties.code\",\n",
    "    fill_color=\"YlGnBu\",\n",
    "    fill_opacity=0.9,\n",
    "    line_opacity=0.5,\n",
    "    legend_name=\"Cost (£) per 1000 GP registered patients\",\n",
    ").add_to(m)\n",
    "\n",
    "folium.LayerControl().add_to(m)\n",
    "\n",
    "m"
   ]
  },
  {
   "cell_type": "code",
   "execution_count": null,
   "metadata": {},
   "outputs": [],
   "source": []
  }
 ],
 "metadata": {
  "orig_nbformat": 4,
  "language_info": {
   "name": "python",
   "version": "3.8.8"
  },
  "kernelspec": {
   "name": "python388jvsc74a57bd03b292ef66d9560a1d3be7d320fd9b3253b0176412dc373d1feb203e357cf3bb4",
   "display_name": "Python 3.8.8 64-bit ('base': conda)"
  },
  "interpreter": {
   "hash": "ce1e901da04acbe50dd99cd0d91cb411cb2166c3507dec81ce620981a8df4741"
  },
  "metadata": {
   "interpreter": {
    "hash": "aee8b7b246df8f9039afb4144a1f6fd8d2ca17a180786b69acc140d282b71a49"
   }
  }
 },
 "nbformat": 4,
 "nbformat_minor": 2
}