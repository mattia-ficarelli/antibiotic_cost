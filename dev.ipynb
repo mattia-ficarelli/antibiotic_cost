{
 "cells": [
  {
   "cell_type": "code",
   "execution_count": null,
   "metadata": {},
   "outputs": [],
   "source": [
    "import urllib.request\n",
    "from urllib.request import urlopen\n",
    "from urllib import request as urlreq\n",
    "import requests\n",
    "import regex as re\n",
    "import folium\n",
    "import json\n",
    "import copy\n",
    "import pandas as pd\n",
    "import plotly.express as px\n",
    "from datetime import datetime\n",
    "from dateutil.relativedelta import relativedelta\n",
    "from bs4 import BeautifulSoup\n"
   ]
  },
  {
   "cell_type": "code",
   "execution_count": null,
   "metadata": {},
   "outputs": [],
   "source": [
    "#0501013B0 = Amoxicillin\n",
    "\n",
    "url_0501013B0 = \"https://openprescribing.net/api/1.0/spending_by_ccg/?code=0501013B0&format=json\"\n",
    "response_0501013B0 = urllib.request.urlopen(url_0501013B0)\n",
    "data_0501013B0 = json.loads(response_0501013B0.read())\n",
    "flat_data_0501013B0 = pd.json_normalize(data_0501013B0)\n",
    "flat_data_0501013B0 = flat_data_0501013B0.groupby(['row_name', 'row_id', 'date']).sum()\n",
    "flat_data_0501013B0 = flat_data_0501013B0.drop(columns=['items', 'quantity'])\n",
    "flat_data_0501013B0 .rename(columns={'actual_cost': 'Amoxicillin'}, inplace=True)\n",
    "flat_data_0501013B0"
   ]
  },
  {
   "cell_type": "code",
   "execution_count": null,
   "metadata": {},
   "outputs": [],
   "source": [
    "#0501030I0 = Doxycycline Hyclate\n",
    "\n",
    "url_0501030I0 = \"https://openprescribing.net/api/1.0/spending_by_ccg/?code=0501030I0&format=json\"\n",
    "response_0501030I0 = urllib.request.urlopen(url_0501030I0)\n",
    "data_0501030I0 = json.loads(response_0501030I0.read())\n",
    "flat_data_0501030I0 = pd.json_normalize(data_0501030I0)\n",
    "flat_data_0501030I0 = flat_data_0501030I0.groupby(['row_name', 'row_id', 'date']).sum()\n",
    "flat_data_0501030I0 = flat_data_0501030I0.drop(columns=['items', 'quantity'])\n",
    "flat_data_0501030I0.rename(columns={'actual_cost': 'Doxycycline Hyclate'}, inplace=True)\n",
    "flat_data_0501030I0"
   ]
  },
  {
   "cell_type": "code",
   "execution_count": null,
   "metadata": {},
   "outputs": [],
   "source": [
    "#0501021L0 = Cefalexin\n",
    "\n",
    "url_0501021L0 = \"https://openprescribing.net/api/1.0/spending_by_ccg/?code=0501021L0&format=json\"\n",
    "response_0501021L0 = urllib.request.urlopen(url_0501021L0)\n",
    "data_0501021L0 = json.loads(response_0501021L0.read())\n",
    "flat_data_0501021L0= pd.json_normalize(data_0501021L0)\n",
    "flat_data_0501021L0 = flat_data_0501021L0.groupby(['row_name', 'row_id', 'date']).sum()\n",
    "flat_data_0501021L0 = flat_data_0501021L0.drop(columns=['items', 'quantity'])\n",
    "flat_data_0501021L0.rename(columns={'actual_cost': 'Cefalexin'}, inplace=True)\n",
    "flat_data_0501021L0"
   ]
  },
  {
   "cell_type": "code",
   "execution_count": null,
   "metadata": {},
   "outputs": [],
   "source": [
    "join_1 = flat_data_0501013B0.join(flat_data_0501030I0, lsuffix='row_id', rsuffix='row_id')\n",
    "all_antibiotics_merged = join_1.join(flat_data_0501021L0, lsuffix='row_id', rsuffix='row_id')\n",
    "all_antibiotics_merged.fillna(0, inplace=True)\n",
    "all_antibiotics_merged['Total cost of Amoxicillin, Doxycycline Hyclate, Cefalexin (£)']= all_antibiotics_merged.iloc[:, -3:].sum(axis=1)\n",
    "all_antibiotics = all_antibiotics_merged.reset_index()\n",
    "all_antibiotics.rename(columns={'row_name': 'Clinical Commissioning Group (CCG)', 'row_id': 'CCG code', 'date': 'Date'}, inplace=True)\n",
    "all_antibiotics"
   ]
  },
  {
   "cell_type": "code",
   "execution_count": null,
   "metadata": {},
   "outputs": [],
   "source": [
    "all_antibiotics_plot = all_antibiotics.groupby(['Date']).sum()\n",
    "all_antibiotics_plot = all_antibiotics_plot.reset_index()\n",
    "all_antibiotics_plot = all_antibiotics_plot.round(2)\n",
    "all_antibiotics_plot"
   ]
  },
  {
   "cell_type": "code",
   "execution_count": null,
   "metadata": {},
   "outputs": [],
   "source": [
    "fig_1_data = all_antibiotics_plot.copy()\n",
    "fig_1_data.rename(columns={\n",
    "\"Amoxicillin\": \"Cost (£) of Amozicillin\",\n",
    "\"Doxycycline Hyclate\": \"Cost (£) of Doxycycline Hyclate\", \n",
    "\"Cefalexin\": \"Cost (£) of Cefalexin\",\n",
    "\"Total cost of Amoxicillin, Doxycycline Hyclate, Cefalexin (£)\": \"Cost (£) of Amoxicillin, Doxycycline Hyclate, and Cefalexin\"}, \n",
    "inplace=True)\n",
    "fig_1_data.index.name = 'Unique ID'"
   ]
  },
  {
   "cell_type": "code",
   "execution_count": null,
   "metadata": {},
   "outputs": [],
   "source": [
    "pd.options.plotting.backend = \"plotly\"\n",
    "fig = px.bar(all_antibiotics_plot, x='Date', y= [\"Amoxicillin\", \"Doxycycline Hyclate\", 'Cefalexin'],\n",
    "color_discrete_sequence=[\"#003087\", \"#0072CE\", \"#41B6E6\"],\n",
    "labels={\"value\": \"Cost (£)\", \"variable\": \"Antibiotic\"})\n",
    "fig.update_layout(\n",
    "    {\"plot_bgcolor\": \"rgba(0, 0, 0, 0)\", \"paper_bgcolor\": \"rgba(0, 0, 0, 0)\"},\n",
    "    font = dict(family = \"Arial\", size = 16),\n",
    "    autosize=True,\n",
    "    margin=dict(l=50, r=50, b=50, t=50, pad=4, autoexpand=True),\n",
    ")\n",
    "fig.show()"
   ]
  },
  {
   "cell_type": "code",
   "execution_count": null,
   "metadata": {},
   "outputs": [],
   "source": [
    "#CCG pop from NHS digital\n",
    "month_year_variable = datetime.now().strftime('%B-%Y').lower()\n",
    "url = \"https://digital.nhs.uk/data-and-information/publications/statistical/patients-registered-at-a-gp-practice/%s\" %month_year_variable \n",
    "response = urllib.request.urlopen(url)\n",
    "soup = BeautifulSoup(response.read(), \"lxml\")\n",
    "data = soup.select_one(\"a[href*='gp-reg-pat-prac-all.csv']\")\n",
    "if data != None: \n",
    "    csv_url = data['href']\n",
    "    req = requests.get(csv_url)\n",
    "    url_content = req.content\n",
    "    csv_file = open('assets/data/ccg_pop.csv', 'wb')\n",
    "    csv_file.write(url_content)\n",
    "    csv_file.close()\n",
    "else:\n",
    "    last_month = datetime.now() - relativedelta(months=1)\n",
    "    last_month_year_variable = last_month.strftime('%B-%Y').lower()\n",
    "    url = \"https://digital.nhs.uk/data-and-information/publications/statistical/patients-registered-at-a-gp-practice/%s\" %last_month_year_variable\n",
    "    response = urllib.request.urlopen(url)\n",
    "    soup = BeautifulSoup(response.read(), \"lxml\")\n",
    "    data = soup.select_one(\"a[href*='gp-reg-pat-prac-all.csv']\")\n",
    "    csv_url = data['href']\n",
    "    req = requests.get(csv_url)\n",
    "    url_content = req.content\n",
    "    csv_file = open('assets/data/ccg_pop.csv', 'wb')\n",
    "    csv_file.write(url_content)\n",
    "    csv_file.close()\n",
    "df1 = pd.read_csv('assets/data/ccg_pop.csv')\n",
    "CCG_pop = df1.groupby(['CCG_CODE']).sum().reset_index()\n",
    "CCG_pop.rename(columns={'CCG_CODE': 'CCG code', 'NUMBER_OF_PATIENTS': 'Number of patients registered at GP practices'}, inplace=True) "
   ]
  },
  {
   "cell_type": "code",
   "execution_count": null,
   "metadata": {},
   "outputs": [],
   "source": [
    "current_year = datetime.now().year\n",
    "current_year_str = str(current_year)"
   ]
  },
  {
   "cell_type": "code",
   "execution_count": null,
   "metadata": {},
   "outputs": [],
   "source": [
    "all_antibiotics[\"Date\"] = pd.to_datetime(all_antibiotics[\"Date\"]).apply(lambda x: x.strftime(\"%Y\"))\n",
    "all_antibiotics_current_year = all_antibiotics.loc[all_antibiotics['Date'] == current_year_str]\n",
    "df1 = all_antibiotics_current_year.groupby([\"CCG code\", \"Clinical Commissioning Group (CCG)\"]).sum()\n",
    "df2 = df1.drop(columns=['Amoxicillin', 'Doxycycline Hyclate', 'Cefalexin'])\n",
    "df3 = df2.reset_index()\n",
    "df4 = df3.join(CCG_pop, rsuffix='CCG code')\n",
    "df5 = df4.drop(columns=['CCG codeCCG code'])\n",
    "df5.rename(columns = {\"Total cost of Amoxicillin, Doxycycline Hyclate, Cefalexin (£)\": \"Cost (£) of Amoxicillin, Doxycycline Hyclate,and Cefalexin in %s\" %current_year_str}, inplace=True)\n",
    "df5[\"Cost (£) of Amoxicillin, Doxycycline Hyclate, and Cefalexin per 1000 GP registered patients in %s\" %current_year_str] = df5[\"Cost (£) of Amoxicillin, Doxycycline Hyclate,and Cefalexin in %s\" %current_year_str]/(df5[\"Number of patients registered at GP practices\"]/1000)\n",
    "df6 = df5.reset_index(drop = True)\n",
    "df7 = df6.rename(columns = {'CCG code': 'ODS CCG code'})\n",
    "df7 = df7.round(2)\n",
    "df7.index.name = 'Unique ID'\n",
    "df7"
   ]
  },
  {
   "cell_type": "code",
   "execution_count": null,
   "metadata": {},
   "outputs": [],
   "source": [
    "def ons_geoportal_file_download(search_url, url_start, string_filter):\n",
    "  url_2 = '/0/query?where=1%3D1&outFields=*&outSR=4326&f=json'\n",
    "  response = urlreq.urlopen(search_url)\n",
    "  soup = BeautifulSoup(response.read(), \"lxml\")\n",
    "  data_url = soup.find_all('a', href=re.compile(string_filter))[-1].get('href')\n",
    "  full_url = url_start + data_url + url_2\n",
    "  with urlopen(full_url) as response:\n",
    "      json_file = json.load(response)\n",
    "  return json_file\n",
    "\n",
    "search_url = \"https://services1.arcgis.com/ESMARspQHYMw9BZ9/arcgis/rest/services/\"\n",
    "url_start = \"https://services1.arcgis.com\"\n",
    "string_filter = \"CCG_APR\"\n",
    "ccg_code_map_json = ons_geoportal_file_download(search_url, url_start, string_filter)\n",
    "ccg_code_map_df = pd.json_normalize(ccg_code_map_json['features'])\n",
    "column_ods_code = ccg_code_map_json['fields'][1]['name'].lower()\n",
    "column_ons_code_1 = ccg_code_map_json['fields'][0]['name'].lower()\n",
    "ccg_code_map_df = ccg_code_map_df.iloc[:,:2]\n",
    "ccg_code_map_df.columns = ccg_code_map_df.columns.str.lower()\n",
    "ccg_code_map_df.rename(columns={'attributes.%s' %column_ons_code_1 :'ONS CCG code', 'attributes.%s' %column_ods_code: 'ODS CCG code'}, inplace=True)"
   ]
  },
  {
   "cell_type": "code",
   "execution_count": null,
   "metadata": {},
   "outputs": [],
   "source": [
    "final_df = ccg_code_map_df.merge(df7, how='outer', on= 'ODS CCG code')\n",
    "final_df"
   ]
  },
  {
   "cell_type": "code",
   "execution_count": null,
   "metadata": {},
   "outputs": [],
   "source": [
    "github_url = 'https://raw.githubusercontent.com/nhs-pycom/coding_club_nhs_data_ingestion/main/ccg_shapefile.geojson'\n",
    "response = urlopen(github_url)\n",
    "data_ccg_geojson = json.loads(response.read())\n",
    "data_ccg_geojson"
   ]
  },
  {
   "cell_type": "code",
   "execution_count": null,
   "metadata": {},
   "outputs": [],
   "source": [
    "# with urlopen('https://openprescribing.net/api/1.0/org_location/?org_type=ccg') as response:\n",
    "#      data_ccg_geojson = json.load(response)\n",
    "\n",
    "tooltip_text = { x: y for x, y in zip(final_df['ONS CCG code'], final_df['Cost (£) of Amoxicillin, Doxycycline Hyclate, and Cefalexin per 1000 GP registered patients in %s' %current_year_str])}\n",
    "tooltip_text_2 = { x: y for x, y in zip(final_df['ONS CCG code'], final_df['Number of patients registered at GP practices'].apply(str))}\n",
    "\n",
    "for idx,x in enumerate(data_ccg_geojson['features']):\n",
    "    this_tooltip_text = tooltip_text[x['properties']['CCG21CD']]\n",
    "    data_ccg_geojson['features'][idx]['properties']['Cost (£) per 1000 GP registered population'] = this_tooltip_text\n",
    "\n",
    "for idx,x in enumerate(data_ccg_geojson['features']):\n",
    "    this_tooltip_text_2 = tooltip_text_2[x['properties']['CCG21CD']]\n",
    "    data_ccg_geojson['features'][idx]['properties']['GP registered population'] = this_tooltip_text_2"
   ]
  },
  {
   "cell_type": "code",
   "execution_count": null,
   "metadata": {},
   "outputs": [],
   "source": [
    "def check_to_include(feature):\n",
    "    return (feature['geometry'] is not None)\n",
    "\n",
    "# def transform(feature):\n",
    "#     new_feature = copy.deepcopy(feature)\n",
    "#     y = new_feature['attributes']\n",
    "#     del y['ons_code']\n",
    "#     return feature\n",
    "\n",
    "data_ccg_geojson_2 = data_ccg_geojson.copy()\n",
    "data_ccg_geojson_2['features'] = [x for x in data_ccg_geojson['features'] if check_to_include(x)]\n",
    "data_ccg_geojson_2"
   ]
  },
  {
   "cell_type": "code",
   "execution_count": null,
   "metadata": {},
   "outputs": [],
   "source": [
    "frame = folium.Figure(width=700, height=500)\n",
    "fig_2 = folium.Map(\n",
    "    location=[53, 1],\n",
    "    tiles=\"cartodbpositron\",\n",
    "    zoom_start=6).add_to(frame)\n",
    "folium.Choropleth(\n",
    "    geo_data = data_ccg_geojson,\n",
    "    name=\"choropleth\",\n",
    "    data= final_df,\n",
    "    columns=[\"ONS CCG code\", \"Cost (£) of Amoxicillin, Doxycycline Hyclate, and Cefalexin per 1000 GP registered patients in %s\" %current_year_str],\n",
    "    key_on=\"feature.properties.CCG21CD\",\n",
    "    fill_color= \"BuPu\",\n",
    "    fill_opacity=1,\n",
    "    line_opacity=0.5,\n",
    "    legend_name=\"Prescribing cost (£) per 1000 GP registered population in %s\" %current_year_str,\n",
    "    highlight = True\n",
    ").add_to(fig_2)\n",
    "style_function = lambda x: {'fillColor': '#ffffff', \n",
    "                            'color':'#000000', \n",
    "                            'fillOpacity': 0.1, \n",
    "                            'weight': 0.1}\n",
    "highlight_function = lambda x: {'fillColor': '#000000', \n",
    "                                'color':'#000000', \n",
    "                                'fillOpacity': 0.5, \n",
    "                                'weight': 0.1}\n",
    "data_on_hover = folium.features.GeoJson(data = data_ccg_geojson_2, style_function=style_function, control=False, highlight_function=highlight_function, tooltip=folium.features.GeoJsonTooltip(\n",
    "    fields=['CCG21NM', 'CCG21CD', 'GP registered population', 'Cost (£) per 1000 GP registered population'],\n",
    "    aliases=['CCG name: ', 'CCG code: ', 'GP registered population: ', 'Cost (£) per 1000 GP registered population: '],\n",
    "    style=(\"background-color: white; color: #333333; font-family: arial; font-size: 12px; padding: 10px;\")))\n",
    "fig_2.add_child(data_on_hover)\n",
    "fig_2.keep_in_front(data_on_hover)\n",
    "folium.LayerControl().add_to(fig_2)\n",
    "fig_2\n"
   ]
  },
  {
   "cell_type": "code",
   "execution_count": null,
   "metadata": {},
   "outputs": [],
   "source": [
    "fig_2.save(\"assets/folium/folium_obj.html\", \"w\")"
   ]
  }
 ],
 "metadata": {
  "interpreter": {
   "hash": "292c795e24700ffeb49481d87674b4a2462b1f5926d60159546f48d450d30bc4"
  },
  "kernelspec": {
   "display_name": "Python 3.9.4 64-bit",
   "name": "python3"
  },
  "language_info": {
   "codemirror_mode": {
    "name": "ipython",
    "version": 3
   },
   "file_extension": ".py",
   "mimetype": "text/x-python",
   "name": "python",
   "nbconvert_exporter": "python",
   "pygments_lexer": "ipython3",
   "version": "3.9.4"
  },
  "metadata": {
   "interpreter": {
    "hash": "aee8b7b246df8f9039afb4144a1f6fd8d2ca17a180786b69acc140d282b71a49"
   }
  },
  "orig_nbformat": 4
 },
 "nbformat": 4,
 "nbformat_minor": 2
}
