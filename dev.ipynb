{
 "cells": [
  {
   "cell_type": "code",
   "execution_count": null,
   "metadata": {},
   "outputs": [],
   "source": [
    "import urllib.request\n",
    "from urllib.request import urlopen\n",
    "from urllib import request as urlreq\n",
    "import requests\n",
    "import regex as re\n",
    "import folium\n",
    "import json\n",
    "import pandas as pd\n",
    "import plotly.express as px\n",
    "import geopandas as gpd\n",
    "from datetime import datetime\n",
    "from dateutil.relativedelta import relativedelta\n",
    "from bs4 import BeautifulSoup\n"
   ]
  },
  {
   "cell_type": "code",
   "execution_count": null,
   "metadata": {},
   "outputs": [],
   "source": [
    "#0501013B0 = Amoxicillin\n",
    "\n",
    "url_0501013B0 = \"https://openprescribing.net/api/1.0/spending_by_ccg/?code=0501013B0&format=json\"\n",
    "response_0501013B0 = urllib.request.urlopen(url_0501013B0)\n",
    "data_0501013B0 = json.loads(response_0501013B0.read())\n",
    "flat_data_0501013B0 = pd.json_normalize(data_0501013B0)\n",
    "flat_data_0501013B0 = flat_data_0501013B0.groupby(['row_name', 'row_id', 'date']).sum()\n",
    "flat_data_0501013B0 = flat_data_0501013B0.drop(columns=['items', 'quantity'])\n",
    "flat_data_0501013B0 .rename(columns={'actual_cost': 'Amoxicillin'}, inplace=True)\n",
    "flat_data_0501013B0"
   ]
  },
  {
   "cell_type": "code",
   "execution_count": null,
   "metadata": {},
   "outputs": [],
   "source": [
    "#0501030I0 = Doxycycline Hyclate\n",
    "\n",
    "url_0501030I0 = \"https://openprescribing.net/api/1.0/spending_by_ccg/?code=0501030I0&format=json\"\n",
    "response_0501030I0 = urllib.request.urlopen(url_0501030I0)\n",
    "data_0501030I0 = json.loads(response_0501030I0.read())\n",
    "flat_data_0501030I0 = pd.json_normalize(data_0501030I0)\n",
    "flat_data_0501030I0 = flat_data_0501030I0.groupby(['row_name', 'row_id', 'date']).sum()\n",
    "flat_data_0501030I0 = flat_data_0501030I0.drop(columns=['items', 'quantity'])\n",
    "flat_data_0501030I0.rename(columns={'actual_cost': 'Doxycycline Hyclate'}, inplace=True)\n",
    "flat_data_0501030I0"
   ]
  },
  {
   "cell_type": "code",
   "execution_count": null,
   "metadata": {},
   "outputs": [],
   "source": [
    "#0501021L0 = Cefalexin\n",
    "\n",
    "url_0501021L0 = \"https://openprescribing.net/api/1.0/spending_by_ccg/?code=0501021L0&format=json\"\n",
    "response_0501021L0 = urllib.request.urlopen(url_0501021L0)\n",
    "data_0501021L0 = json.loads(response_0501021L0.read())\n",
    "flat_data_0501021L0= pd.json_normalize(data_0501021L0)\n",
    "flat_data_0501021L0 = flat_data_0501021L0.groupby(['row_name', 'row_id', 'date']).sum()\n",
    "flat_data_0501021L0 = flat_data_0501021L0.drop(columns=['items', 'quantity'])\n",
    "flat_data_0501021L0.rename(columns={'actual_cost': 'Cefalexin'}, inplace=True)\n",
    "flat_data_0501021L0"
   ]
  },
  {
   "cell_type": "code",
   "execution_count": null,
   "metadata": {},
   "outputs": [],
   "source": [
    "join_1 = flat_data_0501013B0.join(flat_data_0501030I0, lsuffix='row_id', rsuffix='row_id')\n",
    "all_antibiotics_merged = join_1.join(flat_data_0501021L0, lsuffix='row_id', rsuffix='row_id')\n",
    "all_antibiotics_merged.fillna(0, inplace=True)\n",
    "all_antibiotics_merged['Total cost of Amoxicillin, Doxycycline Hyclate, Cefalexin (£)']= all_antibiotics_merged.iloc[:, -3:].sum(axis=1)\n",
    "all_antibiotics = all_antibiotics_merged.reset_index()\n",
    "all_antibiotics.rename(columns={'row_name': 'Clinical Commissioning Group (CCG)', 'row_id': 'CCG code', 'date': 'Date'}, inplace=True)\n",
    "all_antibiotics"
   ]
  },
  {
   "cell_type": "code",
   "execution_count": null,
   "metadata": {},
   "outputs": [],
   "source": [
    "all_antibiotics_plot = all_antibiotics.groupby(['Date']).sum()\n",
    "all_antibiotics_plot = all_antibiotics_plot.reset_index()\n",
    "all_antibiotics_plot = all_antibiotics_plot.round(2)\n",
    "all_antibiotics_plot"
   ]
  },
  {
   "cell_type": "code",
   "execution_count": null,
   "metadata": {},
   "outputs": [],
   "source": [
    "fig_1_data = all_antibiotics_plot.copy()\n",
    "fig_1_data.rename(columns={\n",
    "\"Amoxicillin\": \"Cost (£) of Amozicillin\",\n",
    "\"Doxycycline Hyclate\": \"Cost (£) of Doxycycline Hyclate\", \n",
    "\"Cefalexin\": \"Cost (£) of Cefalexin\",\n",
    "\"Total cost of Amoxicillin, Doxycycline Hyclate, Cefalexin (£)\": \"Cost (£) of Amoxicillin, Doxycycline Hyclate, and Cefalexin\"}, \n",
    "inplace=True)\n",
    "fig_1_data.index.name = 'Unique ID'"
   ]
  },
  {
   "cell_type": "code",
   "execution_count": null,
   "metadata": {},
   "outputs": [],
   "source": [
    "pd.options.plotting.backend = \"plotly\"\n",
    "fig = px.bar(all_antibiotics_plot, x='Date', y= [\"Amoxicillin\", \"Doxycycline Hyclate\", 'Cefalexin'],\n",
    "color_discrete_sequence=[\"#003087\", \"#0072CE\", \"#41B6E6\"],\n",
    "labels={\"value\": \"Cost (£)\", \"variable\": \"Antibiotic\"})\n",
    "fig.update_layout(\n",
    "    {\"plot_bgcolor\": \"rgba(0, 0, 0, 0)\", \"paper_bgcolor\": \"rgba(0, 0, 0, 0)\"},\n",
    "    font = dict(family = \"Arial\", size = 16),\n",
    "    autosize=True,\n",
    "    margin=dict(l=50, r=50, b=50, t=50, pad=4, autoexpand=True),\n",
    ")\n",
    "fig.show()"
   ]
  },
  {
   "cell_type": "code",
   "execution_count": null,
   "metadata": {},
   "outputs": [],
   "source": [
    "#CCG pop from NHS digital\n",
    "month_year_variable = datetime.now().strftime('%B-%Y').lower()\n",
    "url = \"https://digital.nhs.uk/data-and-information/publications/statistical/patients-registered-at-a-gp-practice/%s\" %month_year_variable \n",
    "response = urllib.request.urlopen(url)\n",
    "soup = BeautifulSoup(response.read(), \"lxml\")\n",
    "data = soup.select_one(\"a[href*='gp-reg-pat-prac-all.csv']\")\n",
    "if data != None: \n",
    "    csv_url = data['href']\n",
    "    req = requests.get(csv_url)\n",
    "    url_content = req.content\n",
    "    csv_file = open('assets/data/ccg_pop.csv', 'wb')\n",
    "    csv_file.write(url_content)\n",
    "    csv_file.close()\n",
    "else:\n",
    "    last_month = datetime.now() - relativedelta(months=1)\n",
    "    last_month_year_variable = last_month.strftime('%B-%Y').lower()\n",
    "    url = \"https://digital.nhs.uk/data-and-information/publications/statistical/patients-registered-at-a-gp-practice/%s\" %last_month_year_variable\n",
    "    response = urllib.request.urlopen(url)\n",
    "    soup = BeautifulSoup(response.read(), \"lxml\")\n",
    "    data = soup.select_one(\"a[href*='gp-reg-pat-prac-all.csv']\")\n",
    "    csv_url = data['href']\n",
    "    req = requests.get(csv_url)\n",
    "    url_content = req.content\n",
    "    csv_file = open('assets/data/ccg_pop.csv', 'wb')\n",
    "    csv_file.write(url_content)\n",
    "    csv_file.close()\n",
    "df1 = pd.read_csv('assets/data/ccg_pop.csv')\n",
    "CCG_pop = df1.groupby(['CCG_CODE']).sum().reset_index()\n",
    "CCG_pop.rename(columns={'CCG_CODE': 'CCG code', 'NUMBER_OF_PATIENTS': 'Number of patients registered at GP practices'}, inplace=True) "
   ]
  },
  {
   "cell_type": "code",
   "execution_count": null,
   "metadata": {},
   "outputs": [],
   "source": [
    "current_year = datetime.now().year\n",
    "current_year_str = str(current_year)"
   ]
  },
  {
   "cell_type": "code",
   "execution_count": null,
   "metadata": {},
   "outputs": [],
   "source": [
    "all_antibiotics[\"Date\"] = pd.to_datetime(all_antibiotics[\"Date\"]).apply(lambda x: x.strftime(\"%Y\"))\n",
    "all_antibiotics_current_year = all_antibiotics.loc[all_antibiotics['Date'] == current_year_str]\n",
    "df1 = all_antibiotics_current_year.groupby([\"CCG code\", \"Clinical Commissioning Group (CCG)\"]).sum()\n",
    "df2 = df1.drop(columns=['Amoxicillin', 'Doxycycline Hyclate', 'Cefalexin'])\n",
    "df3 = df2.reset_index()\n",
    "df4 = df3.join(CCG_pop, rsuffix='CCG code')\n",
    "df5 = df4.drop(columns=['CCG codeCCG code'])\n",
    "df5.rename(columns = {\"Total cost of Amoxicillin, Doxycycline Hyclate, Cefalexin (£)\": \"Cost (£) of Amoxicillin, Doxycycline Hyclate,and Cefalexin in %s\" %current_year_str}, inplace=True)\n",
    "df5[\"Cost (£) of Amoxicillin, Doxycycline Hyclate, and Cefalexin per 1000 GP registered patients in %s\" %current_year_str] = df5[\"Cost (£) of Amoxicillin, Doxycycline Hyclate,and Cefalexin in %s\" %current_year_str]/(df5[\"Number of patients registered at GP practices\"]/1000)\n",
    "df6 = df5.reset_index(drop = True)\n",
    "df7 = df6.rename(columns = {'CCG code': 'ODS CCG code'})\n",
    "df7 = df7.round(2)\n",
    "df7.index.name = 'Unique ID'\n",
    "final_df = df7.copy()"
   ]
  },
  {
   "cell_type": "code",
   "execution_count": null,
   "metadata": {},
   "outputs": [],
   "source": [
    "def geo_json_download(input_num):\n",
    "    full_url = url_start + data_url + '%s' %input_num  + url_end_base\n",
    "    with urlopen(full_url) as response:\n",
    "        geodf_map = gpd.read_file(response)\n",
    "    return geodf_map"
   ]
  },
  {
   "cell_type": "code",
   "execution_count": null,
   "metadata": {},
   "outputs": [],
   "source": [
    "current_year = datetime.now().strftime('%Y')\n",
    "last_year = str(datetime.now().year -1)\n",
    "url_start = \"https://ons-inspire.esriuk.com\"\n",
    "search_url = url_start + \"/arcgis/rest/services/Health_Boundaries/\"\n",
    "url_end_base = '/query?where=1%3D1&outFields=*&outSR=4326&f=json'\n",
    "string_filter_base = \"Clinical_Commissioning_Groups_[A-Za-z]+_\"\n",
    "try:\n",
    "  response = urlreq.urlopen(search_url)\n",
    "  soup = BeautifulSoup(response.read(), \"lxml\")\n",
    "  data_url = soup.find_all('a', href=re.compile(string_filter_base + current_year))\n",
    "  if not data_url:\n",
    "    data_url = soup.find_all('a', href=re.compile(string_filter_base + last_year))\n",
    "  data_url = data_url[-1].get('href')\n",
    "  try:\n",
    "    input_num = '/0'\n",
    "    df_map = geo_json_download(input_num)\n",
    "  except:\n",
    "    input_num = '/1'\n",
    "    df_map = geo_json_download(input_num)\n",
    "except:\n",
    "    print('HTTP error')"
   ]
  },
  {
   "cell_type": "code",
   "execution_count": null,
   "metadata": {},
   "outputs": [],
   "source": [
    "url_start_cde_map = \"https://services1.arcgis.com\"\n",
    "search_url_cde_map = url_start_cde_map + \"/ESMARspQHYMw9BZ9/arcgis/rest/services/\"\n",
    "string_filter_cde_map_base = \"CCG_[A-Za-z]+_\"\n",
    "string_filter_cde_map_end = '_EN_NC'\n",
    "url_2_cde_map = '/0/query?where=1%3D1&outFields=*&outSR=4326&f=json'\n",
    "try:\n",
    "  response_cde_map = urlreq.urlopen(search_url_cde_map)\n",
    "  soup_cde_map = BeautifulSoup(response_cde_map.read(), \"lxml\")\n",
    "  data_url_cde_map = soup_cde_map.find_all('a', href=re.compile(string_filter_cde_map_base + current_year + string_filter_cde_map_end))\n",
    "  if not data_url_cde_map:\n",
    "    data_url_cde_map = soup_cde_map.find_all('a', href=re.compile(string_filter_cde_map_base + last_year + string_filter_cde_map_end))  \n",
    "  data_url_cde_map = data_url_cde_map[-1].get('href')\n",
    "  full_url_cde_map = url_start_cde_map + data_url_cde_map + url_2_cde_map\n",
    "  with urlopen(full_url_cde_map) as response:\n",
    "    ccg_code_map_json = json.load(response)\n",
    "    ccg_code_map_df = pd.json_normalize(ccg_code_map_json['features'])\n",
    "except:\n",
    "    print('HTTP error')"
   ]
  },
  {
   "cell_type": "code",
   "execution_count": null,
   "metadata": {},
   "outputs": [],
   "source": [
    "column_mapping = {df_map.columns[0]: 'Index', df_map.columns[1]: 'ONS CCG code', df_map.columns[2]: 'CCG name'}\n",
    "df_map_1 = df_map.rename(columns=column_mapping)\n",
    "df_map_2 = df_map_1.set_index('Index')"
   ]
  },
  {
   "cell_type": "code",
   "execution_count": null,
   "metadata": {},
   "outputs": [],
   "source": [
    "column_ons_code = ccg_code_map_json['fields'][0]['name'].lower()\n",
    "column_ods_code = ccg_code_map_json['fields'][1]['name'].lower()\n",
    "ccg_code_map_df_1 = ccg_code_map_df.iloc[:,:2]\n",
    "ccg_code_map_df_1.columns = ccg_code_map_df_1.columns.str.lower()\n",
    "ccg_code_map_df_1.rename(columns={'attributes.%s' %column_ons_code :'ONS CCG code', 'attributes.%s' %column_ods_code: 'ODS CCG code'}, inplace=True)"
   ]
  },
  {
   "cell_type": "code",
   "execution_count": null,
   "metadata": {},
   "outputs": [],
   "source": [
    "final_map_df = ccg_code_map_df_1.merge(df_map_2, how = 'outer', on = 'ONS CCG code')\n",
    "final_map_df = final_map_df.rename(columns  = {\"ODS CCG code\" : \"code\"})\n",
    "final_map_df_1 = final_map_df[[\"code\", \"CCG name\", \"geometry\"]]\n",
    "gdf = gpd.GeoDataFrame(final_map_df_1)\n",
    "gdf.to_file(\"assets/data/ccg_geojson.geojson\", driver=\"GeoJSON\") "
   ]
  },
  {
   "cell_type": "code",
   "execution_count": null,
   "metadata": {},
   "outputs": [],
   "source": [
    "f = open(\"assets/data/ccg_geojson.geojson\")\n",
    "data_ccg_geojson =  json.load(f)\n",
    "data_ccg_geojson"
   ]
  },
  {
   "cell_type": "code",
   "execution_count": null,
   "metadata": {},
   "outputs": [],
   "source": [
    "\n",
    "tooltip_text = { x: y for x, y in zip(final_df['ODS CCG code'], final_df['Cost (£) of Amoxicillin, Doxycycline Hyclate, and Cefalexin per 1000 GP registered patients in %s' %current_year_str])}\n",
    "tooltip_text_2 = { x: y for x, y in zip(final_df['ODS CCG code'], final_df['Number of patients registered at GP practices'].apply(str))}\n",
    "\n",
    "for idx,x in enumerate(data_ccg_geojson['features']):\n",
    "    this_tooltip_text = tooltip_text[x['properties']['code']]\n",
    "    data_ccg_geojson['features'][idx]['properties']['Cost (£) per 1000 GP registered population'] = this_tooltip_text\n",
    "\n",
    "for idx,x in enumerate(data_ccg_geojson['features']):\n",
    "    this_tooltip_text_2 = tooltip_text_2[x['properties']['code']]\n",
    "    data_ccg_geojson['features'][idx]['properties']['GP registered population'] = this_tooltip_text_2"
   ]
  },
  {
   "cell_type": "code",
   "execution_count": null,
   "metadata": {},
   "outputs": [],
   "source": [
    "data_ccg_geojson"
   ]
  },
  {
   "cell_type": "code",
   "execution_count": null,
   "metadata": {},
   "outputs": [],
   "source": [
    "frame = folium.Figure(width=700, height=500)\n",
    "fig_2 = folium.Map(\n",
    "    location=[53, 1],\n",
    "    tiles=\"cartodbpositron\",\n",
    "    zoom_start=6).add_to(frame)\n",
    "folium.Choropleth(\n",
    "    geo_data = data_ccg_geojson,\n",
    "   name=\"choropleth\",\n",
    "    data= final_df,\n",
    "    columns=[\"ODS CCG code\", \"Cost (£) of Amoxicillin, Doxycycline Hyclate, and Cefalexin per 1000 GP registered patients in %s\" %current_year_str],\n",
    "    key_on=\"feature.properties.code\",\n",
    "    fill_color= \"BuPu\",\n",
    "    fill_opacity=1,\n",
    "    line_opacity=0.5,\n",
    "   legend_name=\"Prescribing cost (£) per 1000 GP registered population in %s\" %current_year_str,\n",
    "    highlight = True\n",
    ").add_to(fig_2)\n",
    "style_function = lambda x: {'fillColor': '#ffffff', \n",
    "                            'color':'#000000', \n",
    "                           'fillOpacity': 0.1, \n",
    "                            'weight': 0.1}\n",
    "highlight_function = lambda x: {'fillColor': '#000000', \n",
    "                                'color':'#000000', \n",
    "                                'fillOpacity': 0.5, \n",
    "                                 'weight': 0.1}\n",
    "data_on_hover = folium.features.GeoJson(data = data_ccg_geojson, style_function=style_function, control=False, highlight_function=highlight_function, tooltip=folium.features.GeoJsonTooltip(\n",
    "    fields=['CCG name', 'code', 'GP registered population', 'Cost (£) per 1000 GP registered population'],\n",
    "    aliases=['CCG name: ', 'CCG code: ', 'GP registered population: ', 'Cost (£) per 1000 GP registered population: '],\n",
    "    style=(\"background-color: white; color: #333333; font-family: arial; font-size: 12px; padding: 10px;\")))\n",
    "fig_2.add_child(data_on_hover)\n",
    "fig_2.keep_in_front(data_on_hover)\n",
    "folium.LayerControl().add_to(fig_2)\n",
    "fig_2\n"
   ]
  },
  {
   "cell_type": "code",
   "execution_count": null,
   "metadata": {},
   "outputs": [],
   "source": [
    "fig_2.save(\"assets/folium/folium_obj.html\", \"w\")"
   ]
  }
 ],
 "metadata": {
  "interpreter": {
   "hash": "3b292ef66d9560a1d3be7d320fd9b3253b0176412dc373d1feb203e357cf3bb4"
  },
  "kernelspec": {
   "display_name": "Python 3.8.8 64-bit ('base': conda)",
   "name": "python3"
  },
  "language_info": {
   "codemirror_mode": {
    "name": "ipython",
    "version": 3
   },
   "file_extension": ".py",
   "mimetype": "text/x-python",
   "name": "python",
   "nbconvert_exporter": "python",
   "pygments_lexer": "ipython3",
   "version": "3.8.8"
  },
  "metadata": {
   "interpreter": {
    "hash": "aee8b7b246df8f9039afb4144a1f6fd8d2ca17a180786b69acc140d282b71a49"
   }
  },
  "orig_nbformat": 4
 },
 "nbformat": 4,
 "nbformat_minor": 2
}
